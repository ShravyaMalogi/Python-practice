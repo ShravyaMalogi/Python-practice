{
  "nbformat": 4,
  "nbformat_minor": 0,
  "metadata": {
    "colab": {
      "provenance": []
    },
    "kernelspec": {
      "name": "python3",
      "display_name": "Python 3"
    },
    "language_info": {
      "name": "python"
    }
  },
  "cells": [
    {
      "cell_type": "markdown",
      "source": [
        "# **EXERCISES**"
      ],
      "metadata": {
        "id": "JqPZ8FdVx_pI"
      }
    },
    {
      "cell_type": "markdown",
      "source": [
        "**1.) Min and Max in Array**\n",
        "\n",
        "**Given an array arr. Your task is to find the minimum and maximum elements in the array.**\n",
        "**Note: Return an array that contains two elements the first one will be a minimum element and the second will be a maximum of an array.**"
      ],
      "metadata": {
        "id": "Cua9CVLByO20"
      }
    },
    {
      "cell_type": "code",
      "execution_count": null,
      "metadata": {
        "colab": {
          "base_uri": "https://localhost:8080/"
        },
        "id": "xz7B7EYxw9yV",
        "outputId": "890a168a-8836-4cd1-9a9a-80b8effe5339"
      },
      "outputs": [
        {
          "output_type": "stream",
          "name": "stdout",
          "text": [
            "Enter numbers separated by space: 3 2 1 56 10000 167\n",
            "Array is:  [3, 2, 1, 56, 10000, 167]\n",
            "Minimum element is:  1\n",
            "Maximum element is:  10000\n"
          ]
        }
      ],
      "source": [
        "arr=list(map(int,input(\"Enter numbers separated by space: \").split()))\n",
        "\n",
        "print(\"Array is: \",arr)\n",
        "\n",
        "print(\"Minimum element is: \",min(arr))\n",
        "print(\"Maximum element is: \",max(arr))"
      ]
    },
    {
      "cell_type": "markdown",
      "source": [
        "**2.)  Union of Two Arrays with Duplicate Elements**\n",
        "\n",
        "**Given two arrays a[] and b[], the task is to find the number of elements in the union between these two arrays.\n",
        "The Union of the two arrays can be defined as the set containing distinct elements from both arrays. If there are repetitions, then only one element occurrence should be there in the union.\n",
        "Note: Elements are not necessarily distinct.**"
      ],
      "metadata": {
        "id": "GtHuyu1M0e7z"
      }
    },
    {
      "cell_type": "code",
      "source": [
        "arr1=list(map(int,input(\"Enter numbers separated by space: \").split()))\n",
        "arr2=list(map(int,input(\"Enter numbers separated by space: \").split()))\n",
        "\n",
        "print(\"Array a is: \",arr1)\n",
        "print(\"Array b is: \",arr2)\n",
        "\n",
        "set1=set(arr1)\n",
        "set2=set(arr2)\n",
        "\n",
        "arr_union = list(set1|set2)\n",
        "print(len(arr_union))"
      ],
      "metadata": {
        "colab": {
          "base_uri": "https://localhost:8080/"
        },
        "id": "EoKvMwkw03ji",
        "outputId": "c95de9f4-f55a-4fc9-dab0-9613cc320657"
      },
      "execution_count": 7,
      "outputs": [
        {
          "output_type": "stream",
          "name": "stdout",
          "text": [
            "Enter numbers separated by space: 1 2 3 4 5\n",
            "Enter numbers separated by space: 1 2 3\n",
            "Array a is:  [1, 2, 3, 4, 5]\n",
            "Array b is:  [1, 2, 3]\n",
            "5\n"
          ]
        }
      ]
    },
    {
      "cell_type": "markdown",
      "source": [
        "**3.) Intersection of two sorted arrays**\n",
        "\n",
        "**Given two sorted arrays arr1[] and arr2[]. Your task is to return the intersection of both arrays.\n",
        "Intersection of two arrays is said to be elements that are common in both arrays. The intersection should not count duplicate elements.\n",
        "Note: If there is no intersection then return an empty array.**"
      ],
      "metadata": {
        "id": "Cb_w-k-NeD_6"
      }
    },
    {
      "cell_type": "code",
      "source": [
        "arr1=list(map(int,input(\"Enter numbers separated by space: \").split()))\n",
        "arr2=list(map(int,input(\"Enter numbers separated by space: \").split()))\n",
        "\n",
        "print(\"Array arr1[] is: \",arr1)\n",
        "print(\"Array arr2[] is: \",arr2)\n",
        "\n",
        "set1=set(arr1)\n",
        "set2=set(arr2)\n",
        "\n",
        "arr_intersection=list(set1 & set2)\n",
        "print(arr_intersection)"
      ],
      "metadata": {
        "colab": {
          "base_uri": "https://localhost:8080/"
        },
        "id": "6kvCmRIueW7h",
        "outputId": "c22871fb-cd95-4f4f-f633-da5073207056"
      },
      "execution_count": 10,
      "outputs": [
        {
          "output_type": "stream",
          "name": "stdout",
          "text": [
            "Enter numbers separated by space: 1 2 3 4\n",
            "Enter numbers separated by space: 2 4 6 7 8\n",
            "Array arr1[] is:  [1, 2, 3, 4]\n",
            "Array arr2[] is:  [2, 4, 6, 7, 8]\n",
            "[2, 4]\n"
          ]
        }
      ]
    },
    {
      "cell_type": "markdown",
      "source": [
        "# **PROGRAMS**"
      ],
      "metadata": {
        "id": "al3h082ahVsC"
      }
    },
    {
      "cell_type": "markdown",
      "source": [
        "**1.) (a) Find Maximum of two numbers in Python (using if-else)**"
      ],
      "metadata": {
        "id": "m9DmI0D7hgpY"
      }
    },
    {
      "cell_type": "code",
      "source": [
        "a=int(input(\"Enter first number: \"))\n",
        "b=int(input(\"Enter second number: \"))\n",
        "\n",
        "if a>b:\n",
        "  print(a,\"is greater than\",b)\n",
        "else:\n",
        "  print(b,\"is greater than\",a)"
      ],
      "metadata": {
        "colab": {
          "base_uri": "https://localhost:8080/"
        },
        "id": "CYhJgXpIhyQ1",
        "outputId": "a15a88ce-f6c9-4ceb-88c5-da33f114bb04"
      },
      "execution_count": 11,
      "outputs": [
        {
          "output_type": "stream",
          "name": "stdout",
          "text": [
            "Enter first number: 10\n",
            "Enter second number: 20\n",
            "20 is greater than 10\n"
          ]
        }
      ]
    },
    {
      "cell_type": "markdown",
      "source": [
        "**1.) (b) Find Maximum of two numbers Using max() function**"
      ],
      "metadata": {
        "id": "tWEKc_A0iHMa"
      }
    },
    {
      "cell_type": "code",
      "source": [
        "a=int(input(\"Enter first number: \"))\n",
        "b=int(input(\"Enter second number: \"))\n",
        "\n",
        "print(\"Maximum = \", max(a,b))"
      ],
      "metadata": {
        "colab": {
          "base_uri": "https://localhost:8080/"
        },
        "id": "d0FR7sX9iKYe",
        "outputId": "192405ad-3a4a-4b9d-ccc0-e344081122ab"
      },
      "execution_count": 16,
      "outputs": [
        {
          "output_type": "stream",
          "name": "stdout",
          "text": [
            "Enter first number: 20\n",
            "Enter second number: 50\n",
            "Maximum =  50\n"
          ]
        }
      ]
    },
    {
      "cell_type": "markdown",
      "source": [
        "**1.) (c) Maximum of two numbers Using list comprehension**"
      ],
      "metadata": {
        "id": "K6poO4cpikaf"
      }
    },
    {
      "cell_type": "code",
      "source": [
        "a=int(input(\"Enter first number: \"))\n",
        "b=int(input(\"Enter second number: \"))\n",
        "\n",
        "x=[a if a>b else b]\n",
        "print(\"Maximum = \", x)"
      ],
      "metadata": {
        "colab": {
          "base_uri": "https://localhost:8080/"
        },
        "id": "Scar_SzHiqCO",
        "outputId": "9652b03e-6542-4b1d-af0b-9e733794938c"
      },
      "execution_count": 14,
      "outputs": [
        {
          "output_type": "stream",
          "name": "stdout",
          "text": [
            "Enter first number: 10\n",
            "Enter second number: 40\n",
            "Maximum =  [40]\n"
          ]
        }
      ]
    },
    {
      "cell_type": "markdown",
      "source": [
        "**1.) (d) Maximum of two numbers Using sort() method**"
      ],
      "metadata": {
        "id": "ZKKmR1Khj5Yq"
      }
    },
    {
      "cell_type": "code",
      "source": [
        "a=int(input(\"Enter first number: \"))\n",
        "b=int(input(\"Enter second number: \"))\n",
        "\n",
        "x=[a,b]\n",
        "x.sort()\n",
        "print(\"Maximum = \", x[-1])"
      ],
      "metadata": {
        "colab": {
          "base_uri": "https://localhost:8080/"
        },
        "id": "d8b5M87HkBNU",
        "outputId": "ec230905-abc2-4a78-b688-cb7c6eac69b7"
      },
      "execution_count": 18,
      "outputs": [
        {
          "output_type": "stream",
          "name": "stdout",
          "text": [
            "Enter first number: 70\n",
            "Enter second number: 30\n",
            "Maximum =  70\n"
          ]
        }
      ]
    },
    {
      "cell_type": "markdown",
      "source": [
        "**2.) (a) Minimum of two numbers in Python(using if-else)**"
      ],
      "metadata": {
        "id": "sA1e9SOIkavj"
      }
    },
    {
      "cell_type": "code",
      "source": [
        "a=int(input(\"Enter first number: \"))\n",
        "b=int(input(\"Enter second number: \"))\n",
        "\n",
        "if a<b:\n",
        "  print(a,\"is less than\",b)\n",
        "else:\n",
        "  print(b,\"is less than\",a)"
      ],
      "metadata": {
        "colab": {
          "base_uri": "https://localhost:8080/"
        },
        "id": "Zv7rRSOokrR6",
        "outputId": "2e537552-cd8e-479e-8dfe-ff8bf8f8ac56"
      },
      "execution_count": 19,
      "outputs": [
        {
          "output_type": "stream",
          "name": "stdout",
          "text": [
            "Enter first number: 85\n",
            "Enter second number: 43\n",
            "43 is less than 85\n"
          ]
        }
      ]
    },
    {
      "cell_type": "markdown",
      "source": [
        "**2.) (b) Minimum of two numbers in Python using min() function**"
      ],
      "metadata": {
        "id": "N2aMrHEUkvEd"
      }
    },
    {
      "cell_type": "code",
      "source": [
        "9a=int(input(\"Enter first number: \"))\n",
        "b=int(input(\"Enter second number: \"))\n",
        "\n",
        "print(\"Minimum = \", min(a,b))"
      ],
      "metadata": {
        "colab": {
          "base_uri": "https://localhost:8080/"
        },
        "id": "KrJyvFB6k7le",
        "outputId": "4b4581fd-525b-45d9-ac55-aa7602a97e76"
      },
      "execution_count": 20,
      "outputs": [
        {
          "output_type": "stream",
          "name": "stdout",
          "text": [
            "Enter first number: 97\n",
            "Enter second number: 96\n",
            "Minimum =  96\n"
          ]
        }
      ]
    },
    {
      "cell_type": "markdown",
      "source": [
        "**2.) (c) Minimum of two numbers using sort()**"
      ],
      "metadata": {
        "id": "hcOF1jpnk-dK"
      }
    },
    {
      "cell_type": "code",
      "source": [
        "a=int(input(\"Enter first number: \"))\n",
        "b=int(input(\"Enter second number: \"))\n",
        "\n",
        "x=[a,b]\n",
        "x.sort()\n",
        "print(\"Minimum = \", x[0])"
      ],
      "metadata": {
        "colab": {
          "base_uri": "https://localhost:8080/"
        },
        "id": "STWnCL6vlIMB",
        "outputId": "d57cbbd2-d06a-4932-abc1-7c69ede204eb"
      },
      "execution_count": 21,
      "outputs": [
        {
          "output_type": "stream",
          "name": "stdout",
          "text": [
            "Enter first number: 567\n",
            "Enter second number: 645\n",
            "Minimum =  567\n"
          ]
        }
      ]
    },
    {
      "cell_type": "markdown",
      "source": [
        "**2.) (d) Minimum of two numbers using lists**"
      ],
      "metadata": {
        "id": "t-PbuDlolX7P"
      }
    },
    {
      "cell_type": "code",
      "source": [
        "a=int(input(\"Enter first number: \"))\n",
        "b=int(input(\"Enter second number: \"))\n",
        "\n",
        "x=[a if a<b else b]\n",
        "print(\"Minimum = \", x)"
      ],
      "metadata": {
        "colab": {
          "base_uri": "https://localhost:8080/"
        },
        "id": "G4HhEuM0lmzZ",
        "outputId": "bde74f35-0818-4042-9f42-718c023e8fb0"
      },
      "execution_count": 22,
      "outputs": [
        {
          "output_type": "stream",
          "name": "stdout",
          "text": [
            "Enter first number: 14\n",
            "Enter second number: 43\n",
            "Minimum =  [14]\n"
          ]
        }
      ]
    },
    {
      "cell_type": "markdown",
      "source": [
        "**3.) Swap first and last values in a list in Python using Slicing**"
      ],
      "metadata": {
        "id": "MKy6Yfthlyfk"
      }
    },
    {
      "cell_type": "code",
      "source": [
        "arr=list(map(int,input(\"Enter numbers separated by space: \").split()))\n",
        "print(\"Array before swapping: \",arr)\n",
        "\n",
        "if(len(arr)>=2):\n",
        "  arr_rearranged=arr[-1:]+arr[1:-1]+arr[:1]\n",
        "  print(\"Array after swapping first and last: \",arr_rearranged)"
      ],
      "metadata": {
        "colab": {
          "base_uri": "https://localhost:8080/"
        },
        "id": "4DEKEgZ_l_NO",
        "outputId": "e38670f5-a41b-475d-85ad-53751ebd10e1"
      },
      "execution_count": 24,
      "outputs": [
        {
          "output_type": "stream",
          "name": "stdout",
          "text": [
            "Enter numbers separated by space: 12 35 9 56 24\n",
            "Array before swapping:  [12, 35, 9, 56, 24]\n",
            "Array after swapping:  [24, 35, 9, 56, 12]\n"
          ]
        }
      ]
    }
  ]
}