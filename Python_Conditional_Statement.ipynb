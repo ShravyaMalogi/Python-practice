{
  "nbformat": 4,
  "nbformat_minor": 0,
  "metadata": {
    "colab": {
      "provenance": []
    },
    "kernelspec": {
      "name": "python3",
      "display_name": "Python 3"
    },
    "language_info": {
      "name": "python"
    }
  },
  "cells": [
    {
      "cell_type": "markdown",
      "source": [
        "# **EXERCISES**\n",
        "\n"
      ],
      "metadata": {
        "id": "00fOX2-HTLJ8"
      }
    },
    {
      "cell_type": "markdown",
      "source": [
        "**1.) Given a positive integer x. Your task is to check, if it is even or odd (Any number that gives zero as remainder when divided by 2 is an even number)**"
      ],
      "metadata": {
        "id": "5Yp8D2k_2SCi"
      }
    },
    {
      "cell_type": "code",
      "execution_count": null,
      "metadata": {
        "colab": {
          "base_uri": "https://localhost:8080/"
        },
        "id": "Yq_QGs211fts",
        "outputId": "67d1dd88-fd3f-46d7-93be-145691b1cdb0"
      },
      "outputs": [
        {
          "output_type": "stream",
          "name": "stdout",
          "text": [
            "23\n",
            "Odd\n"
          ]
        }
      ],
      "source": [
        "n=int(input())\n",
        "if(n%2==0):\n",
        "  print(\"Even\")\n",
        "else:\n",
        "  print(\"Odd\")"
      ]
    },
    {
      "cell_type": "markdown",
      "source": [
        "**2.) Given two integer variables a and b, and a boolean variable flag. The task is to check the status and return accordingly.**\n",
        "**Return True for the following cases:**\n",
        "\n",
        "**Either a or b (not both) is non-negative and the flag is false.**\n",
        "**Both a and b are negative and the flag is true.\n",
        "Otherwise, return false.**"
      ],
      "metadata": {
        "id": "m_ZB7fDV7WYR"
      }
    },
    {
      "cell_type": "code",
      "source": [
        "a=int(input())\n",
        "b=int(input())\n",
        "flag=bool(input())\n",
        "\n",
        "def checkStatus(a,b,flag):\n",
        "  if(a>0 or b>0 and flag==False):\n",
        "    return True\n",
        "  elif(a<0 and b<0 and flag==True):\n",
        "    return True\n",
        "  elif(a>0 and b>0 and flag==False):\n",
        "    return False\n",
        "  else:\n",
        "    return False\n",
        "\n",
        "print(checkStatus(a,b,flag))"
      ],
      "metadata": {
        "colab": {
          "base_uri": "https://localhost:8080/"
        },
        "id": "UY1rO-2b7dOs",
        "outputId": "bce7e671-d473-40eb-becc-06db7fbf57c5"
      },
      "execution_count": null,
      "outputs": [
        {
          "output_type": "stream",
          "name": "stdout",
          "text": [
            "-182\n",
            "-9121\n",
            "True\n",
            "True\n"
          ]
        }
      ]
    },
    {
      "cell_type": "markdown",
      "source": [
        "**3.) There are two friends, John and Smith, and the parameters j_angry and s_angry to indicate if each is angry. You are in trouble if both of them are angry or no one of them is angry.**\n",
        "\n",
        "**Now, complete the function which returns true if you are in trouble, else return false**"
      ],
      "metadata": {
        "id": "jwvBHubp_K5Y"
      }
    },
    {
      "cell_type": "code",
      "source": [
        "def in_trouble(j_angry, s_angry):\n",
        "    # You are in trouble if both are angry or neither is angry\n",
        "    if (j_angry and s_angry) or (not j_angry and not s_angry):\n",
        "        return True\n",
        "    else:\n",
        "        return False\n",
        "\n",
        "# Example usage:\n",
        "print(in_trouble(True, True))  # Output: True\n",
        "print(in_trouble(True, False))  # Output: False\n",
        "print(in_trouble(False, False))  # Output: True"
      ],
      "metadata": {
        "colab": {
          "base_uri": "https://localhost:8080/"
        },
        "id": "qf1yS5LI_V-y",
        "outputId": "b7e8733b-a0a9-43fb-b5fc-4c0b9b86812f"
      },
      "execution_count": null,
      "outputs": [
        {
          "output_type": "stream",
          "name": "stdout",
          "text": [
            "true\n",
            "true\n",
            "True\n"
          ]
        }
      ]
    },
    {
      "cell_type": "markdown",
      "source": [
        "**4.) You are given a string str, you need to return True if  the words \"cat\" and \"hat\" appear same number of times in str, otherwise return False.\n",
        "Note: str contains only lowercase English alphabets.**"
      ],
      "metadata": {
        "id": "Y7ZR9EnuAlgO"
      }
    },
    {
      "cell_type": "code",
      "source": [
        "str1=str(input(\"str= \"))\n",
        "str1=str1.lower()\n",
        "\n",
        "def stringCheck(str1):\n",
        "  if(str1.count(\"cat\")==str1.count(\"hat\")):\n",
        "    return True\n",
        "  else:\n",
        "    return False\n",
        "\n",
        "print(stringCheck(str1))"
      ],
      "metadata": {
        "colab": {
          "base_uri": "https://localhost:8080/"
        },
        "id": "l_tqsatCBY1_",
        "outputId": "981bec92-56e4-481f-a82d-9d2220a9e52c"
      },
      "execution_count": null,
      "outputs": [
        {
          "output_type": "stream",
          "name": "stdout",
          "text": [
            "str= catggsysgygsiHAt\n",
            "True\n"
          ]
        }
      ]
    },
    {
      "cell_type": "markdown",
      "source": [
        "**5.) You are given a number N, you need to print its multiplication table.**"
      ],
      "metadata": {
        "id": "nJiyZr88DjnD"
      }
    },
    {
      "cell_type": "code",
      "source": [
        "N=int(input())\n",
        "\n",
        "for i in range(1,11):\n",
        "  print(i*N,end=\" \")\n",
        "  i+=1"
      ],
      "metadata": {
        "colab": {
          "base_uri": "https://localhost:8080/"
        },
        "id": "AB2CqQMDDjAE",
        "outputId": "b73039d7-5538-4bd3-a111-7e131a1f9ba1"
      },
      "execution_count": null,
      "outputs": [
        {
          "output_type": "stream",
          "name": "stdout",
          "text": [
            "5\n",
            "5 10 15 20 25 30 35 40 45 50 "
          ]
        }
      ]
    },
    {
      "cell_type": "markdown",
      "source": [
        "**6.) You are given a string str, you need to print its characters at even indices(index starts at 0).**"
      ],
      "metadata": {
        "id": "qgI21pRMFnF_"
      }
    },
    {
      "cell_type": "code",
      "source": [
        "str1=str(input(\"str = \"))\n",
        "\n",
        "for i in range(0,len(str1),2):\n",
        "  print(str1[i],end=\"\")"
      ],
      "metadata": {
        "colab": {
          "base_uri": "https://localhost:8080/"
        },
        "id": "mmHYtomLKDmt",
        "outputId": "f3819ee4-c64a-45c3-f2c9-4ee6a7e93f18"
      },
      "execution_count": 6,
      "outputs": [
        {
          "output_type": "stream",
          "name": "stdout",
          "text": [
            "str= DoctorPhenomenal\n",
            "DcoPeoea"
          ]
        }
      ]
    },
    {
      "cell_type": "markdown",
      "source": [
        "**7.) Let's get it more clearly through this question. Given a number x, the task is to print the numbers from x to 0 in decreasing order in a single line.**"
      ],
      "metadata": {
        "id": "Z65dOREVMk15"
      }
    },
    {
      "cell_type": "code",
      "source": [
        "x=int(input(\"x = \"))\n",
        "\n",
        "while(x>=0):\n",
        "  print(x,end=\" \")\n",
        "  x-=1"
      ],
      "metadata": {
        "colab": {
          "base_uri": "https://localhost:8080/"
        },
        "id": "kYPzjY96M7O0",
        "outputId": "f0966c60-a7aa-4961-bd51-891172f8a85a"
      },
      "execution_count": 7,
      "outputs": [
        {
          "output_type": "stream",
          "name": "stdout",
          "text": [
            "x = 3\n",
            "3 2 1 0 "
          ]
        }
      ]
    },
    {
      "cell_type": "markdown",
      "source": [
        "**8.) Given a positive integer x, the task is to print the numbers from 1 to x in the order as 1², 2², 3², 4², 5², ... (in increasing order)**"
      ],
      "metadata": {
        "id": "94CAjINqNVu8"
      }
    },
    {
      "cell_type": "code",
      "source": [
        "x=int(input(\"x = \"))\n",
        "i=1\n",
        "while(1):\n",
        "  print(i**2,end=\" \")\n",
        "  i+=1\n",
        "  if(i**2>x):\n",
        "    break"
      ],
      "metadata": {
        "colab": {
          "base_uri": "https://localhost:8080/"
        },
        "id": "JIqWX87PNme7",
        "outputId": "b2d6620d-be5f-41ff-dbf5-edc8800516ff"
      },
      "execution_count": 18,
      "outputs": [
        {
          "output_type": "stream",
          "name": "stdout",
          "text": [
            "x = 10\n",
            "1 4 9 "
          ]
        }
      ]
    },
    {
      "cell_type": "markdown",
      "source": [
        "**9.) You are given a number n. The number n can be negative or positive. If n is negative, print numbers from n to 0 by adding 1 to n in the neg function. If positive, print numbers from n-1 to 0 by subtracting 1 from n in the pos function.**"
      ],
      "metadata": {
        "id": "jIcpybIBQtfY"
      }
    },
    {
      "cell_type": "code",
      "source": [
        "n=int(input(\"n = \"))\n",
        "\n",
        "def neg(n):\n",
        "  while(n<=0):\n",
        "    print(n,end=\" \")\n",
        "    n+=1\n",
        "\n",
        "def pos(n):\n",
        "  while(n>=0):\n",
        "    print(n,end=\" \")\n",
        "    n-=1\n",
        "\n",
        "if(n<0):\n",
        "  neg(n)\n",
        "elif(n>0):\n",
        "  pos(n)\n",
        "elif(n==0):\n",
        "  print(\"already Zero\")"
      ],
      "metadata": {
        "colab": {
          "base_uri": "https://localhost:8080/"
        },
        "id": "TX_UFLKnRWyl",
        "outputId": "14663c0a-4a9f-41cb-ea02-c362d96225a6"
      },
      "execution_count": 24,
      "outputs": [
        {
          "output_type": "stream",
          "name": "stdout",
          "text": [
            "n = -3\n",
            "-3 -2 -1 0 "
          ]
        }
      ]
    },
    {
      "cell_type": "markdown",
      "source": [
        "# **PROGRAMS**"
      ],
      "metadata": {
        "id": "9rrD8jSyThjD"
      }
    },
    {
      "cell_type": "markdown",
      "source": [
        "**1.) Python Program to Check if a Number is Odd or Even**"
      ],
      "metadata": {
        "id": "zlBmlvT2T6TC"
      }
    },
    {
      "cell_type": "code",
      "source": [
        "n=int(input())\n",
        "\n",
        "if(n%2==0):\n",
        "  print(\"Even number\")\n",
        "else:\n",
        "  print(\"Odd number\")"
      ],
      "metadata": {
        "colab": {
          "base_uri": "https://localhost:8080/"
        },
        "id": "7uuZkgb8TnCJ",
        "outputId": "a69f2779-6760-4411-e050-a58cb9928be4"
      },
      "execution_count": 26,
      "outputs": [
        {
          "output_type": "stream",
          "name": "stdout",
          "text": [
            "41\n",
            "Odd number\n"
          ]
        }
      ]
    },
    {
      "cell_type": "code",
      "source": [
        "n=int(input())\n",
        "\n",
        "if(n%2==0):\n",
        "  print(n, \"is an even number\")\n",
        "else:\n",
        "  print(n, \"is an odd number\")"
      ],
      "metadata": {
        "colab": {
          "base_uri": "https://localhost:8080/"
        },
        "outputId": "0420482e-333b-436e-ce1c-13586d4ac53e",
        "id": "AEbTNSJzUfAo"
      },
      "execution_count": 27,
      "outputs": [
        {
          "output_type": "stream",
          "name": "stdout",
          "text": [
            "41\n",
            "41 is an odd number\n"
          ]
        }
      ]
    },
    {
      "cell_type": "code",
      "source": [
        "n=int(input())\n",
        "\n",
        "if(n&1==0):\n",
        "  print(\"Even number\")\n",
        "elif(n&1==1):\n",
        "  print(\"Odd number\")"
      ],
      "metadata": {
        "colab": {
          "base_uri": "https://localhost:8080/"
        },
        "outputId": "9d655410-3038-4fdd-91fc-84a7ec56dba1",
        "id": "gO9nnz0gVR8K"
      },
      "execution_count": 29,
      "outputs": [
        {
          "output_type": "stream",
          "name": "stdout",
          "text": [
            "2\n",
            "Even number\n"
          ]
        }
      ]
    },
    {
      "cell_type": "markdown",
      "source": [
        "**2.) Python Program to Check Prime Number**"
      ],
      "metadata": {
        "id": "1aJksEv5Vxbi"
      }
    },
    {
      "cell_type": "code",
      "source": [
        "n=int(input())\n",
        "\n",
        "def primeCheck(n):\n",
        "  for i in range(2,(n//2)+1):\n",
        "    if(n%i==0):\n",
        "      return False\n",
        "  return True\n",
        "\n",
        "if(primeCheck(n)):\n",
        "  print(n, \"is a prime number\")\n",
        "else:\n",
        "  print(n, \"is not a prime number\")"
      ],
      "metadata": {
        "colab": {
          "base_uri": "https://localhost:8080/"
        },
        "id": "P7RNRnrqV3fE",
        "outputId": "d8a1ea2d-e11a-4f76-8358-e50b7a3142f0"
      },
      "execution_count": 45,
      "outputs": [
        {
          "output_type": "stream",
          "name": "stdout",
          "text": [
            "25\n",
            "25 is not a prime number\n"
          ]
        }
      ]
    },
    {
      "cell_type": "markdown",
      "source": [
        "**3.) Python Program to Print the Natural Numbers Summation Pattern**"
      ],
      "metadata": {
        "id": "Jpg1C1TVZPC5"
      }
    },
    {
      "cell_type": "code",
      "source": [
        "number = int(input(\"Enter the Natural Number: \"))\n",
        "\n",
        "for j in range(1, number+1):\n",
        "    print(\" + \".join(str(i) for i in range(1, j+1)), \"=\", sum(range(1, j+1)))"
      ],
      "metadata": {
        "colab": {
          "base_uri": "https://localhost:8080/"
        },
        "id": "95FCqOa7afow",
        "outputId": "28861b96-4651-48d8-8f57-6f99b3d98dec"
      },
      "execution_count": 53,
      "outputs": [
        {
          "output_type": "stream",
          "name": "stdout",
          "text": [
            "Enter the Natural Number: 5\n",
            "1 = 1\n",
            "1 + 2 = 3\n",
            "1 + 2 + 3 = 6\n",
            "1 + 2 + 3 + 4 = 10\n",
            "1 + 2 + 3 + 4 + 5 = 15\n",
            "\n"
          ]
        }
      ]
    }
  ]
}