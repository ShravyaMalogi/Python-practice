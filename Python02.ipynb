{
  "nbformat": 4,
  "nbformat_minor": 0,
  "metadata": {
    "colab": {
      "provenance": []
    },
    "kernelspec": {
      "name": "python3",
      "display_name": "Python 3"
    },
    "language_info": {
      "name": "python"
    }
  },
  "cells": [
    {
      "cell_type": "code",
      "execution_count": null,
      "metadata": {
        "colab": {
          "base_uri": "https://localhost:8080/"
        },
        "id": "oixrfTCc8qDT",
        "outputId": "4fb337d1-a345-4b5d-ba17-d9e3ad2f086f"
      },
      "outputs": [
        {
          "output_type": "stream",
          "name": "stdout",
          "text": [
            "[96, 97, 95, 98, 'maths', 'english']\n",
            "95\n",
            "english\n",
            "[96, 97, 95, 98]\n"
          ]
        }
      ],
      "source": [
        "marks=[96,97,95,98, \"maths\", \"english\"]\n",
        "print(marks)\n",
        "print(marks[2])\n",
        "print(marks[-1])\n",
        "print(marks[0:4])"
      ]
    },
    {
      "cell_type": "code",
      "source": [
        "marks = [96,95,97]\n",
        "for score in marks:\n",
        "  print(score)"
      ],
      "metadata": {
        "colab": {
          "base_uri": "https://localhost:8080/"
        },
        "id": "VCxdN9WcBIRu",
        "outputId": "ebef2508-27fa-4714-c92e-e05aff25ac09"
      },
      "execution_count": null,
      "outputs": [
        {
          "output_type": "stream",
          "name": "stdout",
          "text": [
            "96\n",
            "95\n",
            "97\n"
          ]
        }
      ]
    },
    {
      "cell_type": "code",
      "source": [
        "marks = [96,95,97]\n",
        "\n",
        "marks.append(99)\n",
        "print(marks)\n",
        "marks.insert(1,98)\n",
        "print(marks)\n",
        "\n",
        "print(93 in marks)"
      ],
      "metadata": {
        "colab": {
          "base_uri": "https://localhost:8080/"
        },
        "id": "EThwGOW_Bmf8",
        "outputId": "ffa3fa74-6967-48f3-cc41-bcfa50e2b709"
      },
      "execution_count": null,
      "outputs": [
        {
          "output_type": "stream",
          "name": "stdout",
          "text": [
            "[96, 95, 97, 99]\n",
            "[96, 98, 95, 97, 99]\n",
            "False\n"
          ]
        }
      ]
    },
    {
      "cell_type": "code",
      "source": [
        "marks=[96,97,95,98, \"maths\", \"english\"]\n",
        "print(len(marks))"
      ],
      "metadata": {
        "colab": {
          "base_uri": "https://localhost:8080/"
        },
        "id": "HF4fuCdIB3yc",
        "outputId": "207aa6c1-7bd0-422a-9ccc-47f21ffb0426"
      },
      "execution_count": null,
      "outputs": [
        {
          "output_type": "stream",
          "name": "stdout",
          "text": [
            "6\n"
          ]
        }
      ]
    },
    {
      "cell_type": "code",
      "source": [
        "marks=[96,97,95,97]\n",
        "score=0\n",
        "while score<len(marks):\n",
        "  print(marks[score])\n",
        "  score=score+1"
      ],
      "metadata": {
        "colab": {
          "base_uri": "https://localhost:8080/"
        },
        "id": "CrxZQeF5DhDD",
        "outputId": "673c13d7-fa7c-406f-c79f-4f4029610c69"
      },
      "execution_count": null,
      "outputs": [
        {
          "output_type": "stream",
          "name": "stdout",
          "text": [
            "96\n",
            "97\n",
            "95\n",
            "97\n"
          ]
        }
      ]
    },
    {
      "cell_type": "code",
      "source": [
        "marks=[96,97,95,98]\n",
        "marks.clear()\n",
        "print(marks)"
      ],
      "metadata": {
        "colab": {
          "base_uri": "https://localhost:8080/"
        },
        "id": "QJZbWhKEEA98",
        "outputId": "7daccee8-9f81-4683-dbeb-dbbf783764cf"
      },
      "execution_count": null,
      "outputs": [
        {
          "output_type": "stream",
          "name": "stdout",
          "text": [
            "[]\n"
          ]
        }
      ]
    },
    {
      "cell_type": "code",
      "source": [
        "students=[\"teena\",\"meena\",\"reena\",\"seena\",\"leena\"]\n",
        "for name in students:\n",
        "  if name==\"reena\":\n",
        "    break\n",
        "  print(name)\n",
        "\n",
        "print(\" \")\n",
        "\n",
        "for name in students:\n",
        "  if name==\"meena\":\n",
        "    continue\n",
        "  print(name)"
      ],
      "metadata": {
        "colab": {
          "base_uri": "https://localhost:8080/"
        },
        "id": "im-rXicfExbz",
        "outputId": "ec7e4a68-ce74-45e3-ba60-fc64454142b0"
      },
      "execution_count": null,
      "outputs": [
        {
          "output_type": "stream",
          "name": "stdout",
          "text": [
            "teena\n",
            "meena\n",
            " \n",
            "teena\n",
            "reena\n",
            "seena\n",
            "leena\n"
          ]
        }
      ]
    },
    {
      "cell_type": "code",
      "source": [
        "marks=(95,98,97,97,97)   #tuple\n",
        "scores=95,96,98          #tuple by default\n",
        "\n",
        "print(marks.count(97))\n",
        "print(marks.count(95))\n",
        "\n",
        "print(marks.index(98))\n",
        "print(marks.index(97))\n",
        "\n",
        "print(scores)"
      ],
      "metadata": {
        "colab": {
          "base_uri": "https://localhost:8080/"
        },
        "id": "zDLCuvx1Gwyy",
        "outputId": "b1ddb7db-7b5e-465e-8735-0f35383023e1"
      },
      "execution_count": null,
      "outputs": [
        {
          "output_type": "stream",
          "name": "stdout",
          "text": [
            "3\n",
            "1\n",
            "1\n",
            "2\n",
            "(95, 96, 98)\n"
          ]
        }
      ]
    },
    {
      "cell_type": "code",
      "source": [
        "marks={97,96,95,97,97}\n",
        "for score in marks:\n",
        "  print(score)"
      ],
      "metadata": {
        "colab": {
          "base_uri": "https://localhost:8080/"
        },
        "id": "EiGf5dEAVW8q",
        "outputId": "740fb9ee-5e20-45c3-93ef-a451899ffbc1"
      },
      "execution_count": null,
      "outputs": [
        {
          "output_type": "stream",
          "name": "stdout",
          "text": [
            "96\n",
            "97\n",
            "95\n"
          ]
        }
      ]
    },
    {
      "cell_type": "code",
      "source": [
        "marks={\"english\":98, \"maths\":99}\n",
        "marks[\"physics\"]=94\n",
        "print(marks)\n",
        "marks[\"english\"]=96\n",
        "print(marks)"
      ],
      "metadata": {
        "colab": {
          "base_uri": "https://localhost:8080/"
        },
        "id": "EB8hKZoiYabE",
        "outputId": "1da743f8-660c-4d00-cf68-5422545f3ffe"
      },
      "execution_count": null,
      "outputs": [
        {
          "output_type": "stream",
          "name": "stdout",
          "text": [
            "{'english': 98, 'maths': 99, 'physics': 94}\n",
            "{'english': 96, 'maths': 99, 'physics': 94}\n"
          ]
        }
      ]
    },
    {
      "cell_type": "code",
      "source": [
        "from math import *\n",
        "print(sqrt(16))"
      ],
      "metadata": {
        "colab": {
          "base_uri": "https://localhost:8080/"
        },
        "id": "dMK5ftqibBFD",
        "outputId": "2aa2c07e-abd3-44b9-ae80-4de3b21a80a8"
      },
      "execution_count": null,
      "outputs": [
        {
          "output_type": "stream",
          "name": "stdout",
          "text": [
            "4.0\n"
          ]
        }
      ]
    },
    {
      "cell_type": "code",
      "source": [
        "def sum(first,second):\n",
        "  print(first+second)\n",
        "\n",
        "sum(1,2)"
      ],
      "metadata": {
        "colab": {
          "base_uri": "https://localhost:8080/"
        },
        "id": "I9YJ47wWbp9O",
        "outputId": "da4b68bc-7492-4aca-a095-aeadf8b2ab4c"
      },
      "execution_count": null,
      "outputs": [
        {
          "output_type": "stream",
          "name": "stdout",
          "text": [
            "3\n"
          ]
        }
      ]
    },
    {
      "cell_type": "code",
      "source": [
        "def sum(first,second=4):\n",
        "  print(first+second)\n",
        "\n",
        "sum(2)\n",
        "sum(2,5)"
      ],
      "metadata": {
        "colab": {
          "base_uri": "https://localhost:8080/"
        },
        "id": "66YtEkh-cHC2",
        "outputId": "b4efb749-d81a-4176-dc2c-787a78fcf485"
      },
      "execution_count": null,
      "outputs": [
        {
          "output_type": "stream",
          "name": "stdout",
          "text": [
            "6\n",
            "7\n"
          ]
        }
      ]
    }
  ]
}