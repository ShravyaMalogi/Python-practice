{
  "nbformat": 4,
  "nbformat_minor": 0,
  "metadata": {
    "colab": {
      "provenance": []
    },
    "kernelspec": {
      "name": "python3",
      "display_name": "Python 3"
    },
    "language_info": {
      "name": "python"
    }
  },
  "cells": [
    {
      "cell_type": "code",
      "execution_count": null,
      "metadata": {
        "colab": {
          "base_uri": "https://localhost:8080/"
        },
        "id": "TDRKGxWzRt93",
        "outputId": "973b2504-ddaa-489f-832c-1a3ef7848c23"
      },
      "outputs": [
        {
          "output_type": "stream",
          "name": "stdout",
          "text": [
            "Hello World\n"
          ]
        }
      ],
      "source": [
        "print(\"Hello World\")"
      ]
    },
    {
      "cell_type": "code",
      "source": [
        "name=\"Tisha\"\n",
        "age=20\n",
        "section=\"AIML2\"\n",
        "print(name)\n",
        "print(section)\n",
        "print(age)"
      ],
      "metadata": {
        "colab": {
          "base_uri": "https://localhost:8080/"
        },
        "id": "m98-RBqEV8R7",
        "outputId": "21a697fd-7b22-4eb8-b102-f66f5f22da46"
      },
      "execution_count": null,
      "outputs": [
        {
          "output_type": "stream",
          "name": "stdout",
          "text": [
            "Tisha\n",
            "AIML2\n",
            "20\n"
          ]
        }
      ]
    },
    {
      "cell_type": "code",
      "source": [
        "name=\"Tisha\"\n",
        "age=20\n",
        "\n",
        "name=\"Shrav\"\n",
        "age=\"21\"\n",
        "\n",
        "print(name)\n",
        "print(age)"
      ],
      "metadata": {
        "colab": {
          "base_uri": "https://localhost:8080/"
        },
        "id": "pnselq8GXayh",
        "outputId": "4eaa6676-c7de-45fb-c619-8422d987ff88"
      },
      "execution_count": null,
      "outputs": [
        {
          "output_type": "stream",
          "name": "stdout",
          "text": [
            "Shrav\n",
            "21\n"
          ]
        }
      ]
    },
    {
      "cell_type": "code",
      "source": [
        "#Exercise1\n",
        "\n",
        "firstname=\"Tony\"\n",
        "lastname=\"Stark\"\n",
        "age=51\n",
        "is_genius=True\n",
        "\n",
        "print(firstname + \" \" + lastname)\n",
        "print(age)\n",
        "print(is_genius)"
      ],
      "metadata": {
        "colab": {
          "base_uri": "https://localhost:8080/"
        },
        "id": "6kscEPnUZujZ",
        "outputId": "ae02ce71-8e06-464c-a4d0-68c6c7e15178"
      },
      "execution_count": null,
      "outputs": [
        {
          "output_type": "stream",
          "name": "stdout",
          "text": [
            "Tony Stark\n",
            "51\n",
            "True\n"
          ]
        }
      ]
    },
    {
      "cell_type": "code",
      "source": [
        "name =input(\"What is your name? \")\n",
        "print(name)"
      ],
      "metadata": {
        "colab": {
          "base_uri": "https://localhost:8080/"
        },
        "id": "eE9aQFYzctLR",
        "outputId": "88dd6b6c-06de-408d-9772-2af29bc05188"
      },
      "execution_count": null,
      "outputs": [
        {
          "output_type": "stream",
          "name": "stdout",
          "text": [
            "What is your name? Tisha\n",
            "Tisha\n"
          ]
        }
      ]
    },
    {
      "cell_type": "code",
      "source": [
        "#Exercise2\n",
        "\n",
        "name =input(\"What is your superhero name? \")\n",
        "print(\"Your superhero name is \" +name)"
      ],
      "metadata": {
        "colab": {
          "base_uri": "https://localhost:8080/"
        },
        "id": "dXXyJf2rdI7N",
        "outputId": "e492b728-9f99-449d-8941-f87b9e5af543"
      },
      "execution_count": null,
      "outputs": [
        {
          "output_type": "stream",
          "name": "stdout",
          "text": [
            "What is your superhero name? Wonder Woman\n",
            "Your superhero name is Wonder Woman\n"
          ]
        }
      ]
    },
    {
      "cell_type": "code",
      "source": [
        "old_age = input(\"Enter your old age: \")\n",
        "(new_age) = int(old_age) + 5\n",
        "print(\"Your new age is: \" +str(new_age))"
      ],
      "metadata": {
        "colab": {
          "base_uri": "https://localhost:8080/"
        },
        "id": "P0q9ZA8ykMg7",
        "outputId": "e08348c5-8c14-42fe-fa05-3459b2e2d4ea"
      },
      "execution_count": null,
      "outputs": [
        {
          "output_type": "stream",
          "name": "stdout",
          "text": [
            "Enter your old age: 15\n",
            "Your new age is: 20\n"
          ]
        }
      ]
    },
    {
      "cell_type": "code",
      "source": [
        "#Program1\n",
        "\n",
        "a = input(\"Enter first number: \")\n",
        "b = input(\"Enter second number: \")\n",
        "Sum=int(a)+int(b)\n",
        "print(\"Sum= \" +str(Sum))"
      ],
      "metadata": {
        "colab": {
          "base_uri": "https://localhost:8080/"
        },
        "id": "9bjQYmYZlv8g",
        "outputId": "277627a7-45de-4c36-da33-5585a016e37b"
      },
      "execution_count": null,
      "outputs": [
        {
          "output_type": "stream",
          "name": "stdout",
          "text": [
            "Enter first number: 30\n",
            "Enter second number: 40\n",
            "Sum= 70\n"
          ]
        }
      ]
    },
    {
      "cell_type": "code",
      "source": [
        "name=\"Tisha\"\n",
        "print(name.upper())"
      ],
      "metadata": {
        "id": "zMjdAAhUplWm",
        "colab": {
          "base_uri": "https://localhost:8080/"
        },
        "outputId": "08b59d05-0d47-45c8-9132-c0432ac7488b"
      },
      "execution_count": null,
      "outputs": [
        {
          "output_type": "stream",
          "name": "stdout",
          "text": [
            "TISHA\n"
          ]
        }
      ]
    },
    {
      "cell_type": "code",
      "source": [
        "name=\"Tony Stark\"\n",
        "print(name.find('S'))\n",
        "print(name.find('Stark'))\n",
        "print(name.find('s'))\n",
        "print(name.find('stark'))\n",
        "print(name.find(' '))"
      ],
      "metadata": {
        "colab": {
          "base_uri": "https://localhost:8080/"
        },
        "id": "e1mszXK60Psu",
        "outputId": "4fc19db5-737a-4437-e549-daa9dd05d179"
      },
      "execution_count": null,
      "outputs": [
        {
          "output_type": "stream",
          "name": "stdout",
          "text": [
            "5\n",
            "5\n",
            "-1\n",
            "-1\n",
            "4\n"
          ]
        }
      ]
    },
    {
      "cell_type": "code",
      "source": [
        "name=\"Tony Stark\"\n",
        "nickname=\"Chris Jonathan Pratt\"\n",
        "print(name.replace(\"Tony Stark\",\"Iron Man\"))\n",
        "print(nickname.replace(\"Jonathan\",\"Junior\"))\n",
        "print(nickname.replace(\"Jonathan\",\"\"))"
      ],
      "metadata": {
        "colab": {
          "base_uri": "https://localhost:8080/"
        },
        "id": "w4ktWfEl1JB7",
        "outputId": "15cf2c1a-7c49-4625-8616-ada710b22b44"
      },
      "execution_count": null,
      "outputs": [
        {
          "output_type": "stream",
          "name": "stdout",
          "text": [
            "Iron Man\n",
            "Chris Junior Pratt\n",
            "Chris  Pratt\n"
          ]
        }
      ]
    },
    {
      "cell_type": "code",
      "source": [
        "name=\"Tony Stark\"\n",
        "print('T' in name)\n",
        "print('s' in name)\n",
        "print('m' in name)"
      ],
      "metadata": {
        "colab": {
          "base_uri": "https://localhost:8080/"
        },
        "id": "CA1N2tOhDQO7",
        "outputId": "2fc7da91-e49f-449f-8dff-51efc6397afa"
      },
      "execution_count": null,
      "outputs": [
        {
          "output_type": "stream",
          "name": "stdout",
          "text": [
            "True\n",
            "False\n",
            "False\n"
          ]
        }
      ]
    },
    {
      "cell_type": "code",
      "source": [
        "print(5+2)\n",
        "print(5-2)\n",
        "print(5*2)\n",
        "print(5**2)\n",
        "print(5/2)\n",
        "print(5//2)\n",
        "print(5%2)"
      ],
      "metadata": {
        "colab": {
          "base_uri": "https://localhost:8080/"
        },
        "id": "8QObck1bGQkN",
        "outputId": "e36a4cd4-b510-49c0-e918-4055b88a98f2"
      },
      "execution_count": null,
      "outputs": [
        {
          "output_type": "stream",
          "name": "stdout",
          "text": [
            "7\n",
            "3\n",
            "10\n",
            "25\n",
            "2.5\n",
            "2\n",
            "1\n"
          ]
        }
      ]
    },
    {
      "cell_type": "code",
      "source": [
        "i=5\n",
        "i=i+2\n",
        "j=5\n",
        "j+=2\n",
        "print(i)\n",
        "print(j)"
      ],
      "metadata": {
        "colab": {
          "base_uri": "https://localhost:8080/"
        },
        "id": "cKa9z7doHWdG",
        "outputId": "f7d867ed-56eb-4cb0-893a-868f13b9a7b2"
      },
      "execution_count": null,
      "outputs": [
        {
          "output_type": "stream",
          "name": "stdout",
          "text": [
            "7\n",
            "7\n"
          ]
        }
      ]
    },
    {
      "cell_type": "code",
      "source": [
        "print(2>3)\n",
        "print(2>3 or 2>1)\n",
        "print(3<5 and 5==5)\n",
        "print(not 3!=4)"
      ],
      "metadata": {
        "colab": {
          "base_uri": "https://localhost:8080/"
        },
        "id": "EgrtlnQkIxMh",
        "outputId": "4b9a8295-7ee9-4487-e0ff-7b47b081973a"
      },
      "execution_count": null,
      "outputs": [
        {
          "output_type": "stream",
          "name": "stdout",
          "text": [
            "False\n",
            "True\n",
            "True\n",
            "False\n"
          ]
        }
      ]
    },
    {
      "cell_type": "code",
      "source": [
        "age=16\n",
        "\n",
        "if age>=18:\n",
        "  print(\"you are an adult\")\n",
        "  print(\"you can vote\")\n",
        "elif age<18 and age>3:\n",
        "  print(\"you are a minor who can't vote\")\n",
        "else:\n",
        "  print(\"you are a child\")\n",
        "\n",
        "print(\"Thank you\")"
      ],
      "metadata": {
        "colab": {
          "base_uri": "https://localhost:8080/"
        },
        "id": "X6QKYLJaJmuR",
        "outputId": "d5911762-a7a6-491a-e667-16ae8fd65673"
      },
      "execution_count": null,
      "outputs": [
        {
          "output_type": "stream",
          "name": "stdout",
          "text": [
            "you are a minor who can't vote\n",
            "Thank you\n"
          ]
        }
      ]
    },
    {
      "cell_type": "code",
      "source": [
        "print(\"CALCULATOR\")\n",
        "a=int(input(\"Enter a number: \"))\n",
        "b=int(input(\"Enter another number: \"))\n",
        "op=input(\"Choose an operation(+,-,*,/): \")\n",
        "if op=='+':\n",
        "  print(a+b)\n",
        "elif op=='-':\n",
        "  print(a-b)\n",
        "elif op=='*':\n",
        "  print(a*b)\n",
        "elif op=='/':\n",
        "  print(a/b)\n",
        "else:\n",
        "  print(\"there is an error\")"
      ],
      "metadata": {
        "colab": {
          "base_uri": "https://localhost:8080/"
        },
        "id": "zNQmNMp1Ma84",
        "outputId": "95bae6c4-96b6-45b3-8fc3-08de00d52665"
      },
      "execution_count": null,
      "outputs": [
        {
          "output_type": "stream",
          "name": "stdout",
          "text": [
            "CALCULATOR\n",
            "Enter a number: 4\n",
            "Enter another number: 5\n",
            "Choose an operation(+,-,*,/): *\n",
            "20\n"
          ]
        }
      ]
    },
    {
      "cell_type": "code",
      "source": [
        "numbers=range(5) #(0,1,2,3,4)\n",
        "print(numbers)"
      ],
      "metadata": {
        "colab": {
          "base_uri": "https://localhost:8080/"
        },
        "id": "xzLohvGeOhwQ",
        "outputId": "9608b947-5264-4b45-fe89-ffb0c198580c"
      },
      "execution_count": null,
      "outputs": [
        {
          "output_type": "stream",
          "name": "stdout",
          "text": [
            "range(0, 5)\n"
          ]
        }
      ]
    },
    {
      "cell_type": "code",
      "source": [
        "i=1\n",
        "while i<=5:\n",
        "  print(i)\n",
        "  i=i+1"
      ],
      "metadata": {
        "colab": {
          "base_uri": "https://localhost:8080/"
        },
        "id": "JKusA7HxP6Hy",
        "outputId": "b6dacb88-4365-4080-8259-559adb615687"
      },
      "execution_count": null,
      "outputs": [
        {
          "output_type": "stream",
          "name": "stdout",
          "text": [
            "1\n",
            "2\n",
            "3\n",
            "4\n",
            "5\n"
          ]
        }
      ]
    },
    {
      "cell_type": "code",
      "source": [
        "i=1\n",
        "while i<=5:\n",
        "  print(i * '*')\n",
        "  i=i+1"
      ],
      "metadata": {
        "colab": {
          "base_uri": "https://localhost:8080/"
        },
        "id": "riFvKN5ePFxf",
        "outputId": "ef516552-8268-4e08-ddf2-5adad6f1888d"
      },
      "execution_count": null,
      "outputs": [
        {
          "output_type": "stream",
          "name": "stdout",
          "text": [
            "*\n",
            "**\n",
            "***\n",
            "****\n",
            "*****\n"
          ]
        }
      ]
    },
    {
      "cell_type": "code",
      "source": [
        "for i in range(5):\n",
        "  print(i)\n",
        "\n",
        "print(\" \")\n",
        "\n",
        "for j in range(5):\n",
        "  print(j+1)"
      ],
      "metadata": {
        "colab": {
          "base_uri": "https://localhost:8080/"
        },
        "id": "oWgxmjtJQcFI",
        "outputId": "06b75ad6-2c7d-4028-a41e-c6b152dbdd2d"
      },
      "execution_count": null,
      "outputs": [
        {
          "output_type": "stream",
          "name": "stdout",
          "text": [
            "0\n",
            "1\n",
            "2\n",
            "3\n",
            "4\n",
            " \n",
            "1\n",
            "2\n",
            "3\n",
            "4\n",
            "5\n"
          ]
        }
      ]
    }
  ]
}